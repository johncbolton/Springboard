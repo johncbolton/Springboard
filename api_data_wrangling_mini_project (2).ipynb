{
 "cells": [
  {
   "cell_type": "markdown",
   "metadata": {},
   "source": [
    "This exercise will require you to pull some data from the Qunadl API. Qaundl is currently the most widely used aggregator of financial market data."
   ]
  },
  {
   "cell_type": "markdown",
   "metadata": {},
   "source": [
    "As a first step, you will need to register a free account on the http://www.quandl.com website."
   ]
  },
  {
   "cell_type": "markdown",
   "metadata": {},
   "source": [
    "After you register, you will be provided with a unique API key, that you should store:"
   ]
  },
  {
   "cell_type": "code",
   "execution_count": 26,
   "metadata": {},
   "outputs": [],
   "source": [
    "# Store the API key as a string - according to PEP8, constants are always named in all upper case\n",
    "API_KEY = '.....'"
   ]
  },
  {
   "cell_type": "markdown",
   "metadata": {},
   "source": [
    "Qaundl has a large number of data sources, but, unfortunately, most of them require a Premium subscription. Still, there are also a good number of free datasets."
   ]
  },
  {
   "cell_type": "markdown",
   "metadata": {},
   "source": [
    "For this mini project, we will focus on equities data from the Frankfurt Stock Exhange (FSE), which is available for free. We'll try and analyze the stock prices of a company called Carl Zeiss Meditec, which manufactures tools for eye examinations, as well as medical lasers for laser eye surgery: https://www.zeiss.com/meditec/int/home.html. The company is listed under the stock ticker AFX_X."
   ]
  },
  {
   "cell_type": "markdown",
   "metadata": {},
   "source": [
    "You can find the detailed Quandl API instructions here: https://docs.quandl.com/docs/time-series"
   ]
  },
  {
   "cell_type": "markdown",
   "metadata": {},
   "source": [
    "While there is a dedicated Python package for connecting to the Quandl API, we would prefer that you use the *requests* package, which can be easily downloaded using *pip* or *conda*. You can find the documentation for the package here: http://docs.python-requests.org/en/master/ "
   ]
  },
  {
   "cell_type": "markdown",
   "metadata": {},
   "source": [
    "Finally, apart from the *requests* package, you are encouraged to not use any third party Python packages, such as *pandas*, and instead focus on what's available in the Python Standard Library (the *collections* module might come in handy: https://pymotw.com/3/collections/ ).\n",
    "Also, since you won't have access to DataFrames, you are encouraged to us Python's native data structures - preferably dictionaries, though some questions can also be answered using lists.\n",
    "You can read more on these data structures here: https://docs.python.org/3/tutorial/datastructures.html"
   ]
  },
  {
   "cell_type": "markdown",
   "metadata": {},
   "source": [
    "Keep in mind that the JSON responses you will be getting from the API map almost one-to-one to Python's dictionaries. Unfortunately, they can be very nested, so make sure you read up on indexing dictionaries in the documentation provided above."
   ]
  },
  {
   "cell_type": "code",
   "execution_count": 2,
   "metadata": {},
   "outputs": [],
   "source": [
    "# First, import the relevant modules\n",
    "import requests\n",
    "import json\n"
   ]
  },
  {
   "cell_type": "code",
   "execution_count": 6,
   "metadata": {},
   "outputs": [],
   "source": [
    "# Now, call the Quandl API and pull out a small sample of the data (only one day) to get a glimpse\n",
    "# into the JSON structure that will be returned\n",
    "url= \"https://www.quandl.com/api/v3/datasets/FSE/AFX_X/data.json?api_key=\"+API_KEY\n",
    "r= requests.get(url)\n",
    "r.status_code\n",
    "json_data = r.json()"
   ]
  },
  {
   "cell_type": "code",
   "execution_count": 7,
   "metadata": {},
   "outputs": [
    {
     "name": "stdout",
     "output_type": "stream",
     "text": [
      "Inpection Level 1 \n",
      "\n",
      " dict_keys(['dataset_data'])\n",
      "Inpection Level 2 \n",
      "\n",
      " dict_keys(['limit', 'transform', 'column_index', 'column_names', 'start_date', 'end_date', 'frequency', 'data', 'collapse', 'order'])\n",
      "Inpection Level 3 \n",
      "\n",
      " dict_keys(['limit', 'transform', 'column_index', 'column_names', 'start_date', 'end_date', 'frequency', 'data', 'collapse', 'order'])\n",
      "Inpection Level 5 Sample Data Extract \n",
      "\n",
      " [['2020-11-30', 111.0, 113.6, 111.0, 112.1, None, 315.0, 35111.5, None, None, None], ['2020-11-27', 111.0, 111.5, 109.5, 111.2, None, 155.0, 17168.5, None, None, None], ['2020-11-26', 111.3, 112.0, 110.5, 111.6, None, 254.0, 28367.5, None, None, None], ['2020-11-25', 111.4, 111.4, 110.1, 110.1, None, 294.0, 32435.8, None, None, None], ['2020-11-24', 116.1, 116.8, 110.5, 113.5, None, 3184.0, 361404.4, None, None, None], ['2020-11-23', 118.0, 118.8, 116.3, 116.3, None, 1590.0, 187525.0, None, None, None], ['2020-11-20', 116.5, 118.0, 116.5, 117.5, None, 295.0, 34736.0, None, None, None], ['2020-11-19', 115.6, 115.6, 115.6, 115.6, None, 0.0, 0.0, None, None, None], ['2020-11-18', 115.8, 115.8, 115.0, 115.0, None, 25.0, 2875.0, None, None, None]]\n"
     ]
    }
   ],
   "source": [
    "# Inspect the JSON structure of the object you created, and take note of how nested it is,\n",
    "# as well as the overall structure\n",
    "print('Inpection Level 1 \\n\\n', json_data.keys())\n",
    "print('Inpection Level 2 \\n\\n', json_data['dataset_data'].keys())\n",
    "print('Inpection Level 3 \\n\\n', json_data['dataset_data'].keys())\n",
    "print('Inpection Level 5 Sample Data Extract \\n\\n', json_data['dataset_data']['data'][1:10])"
   ]
  },
  {
   "cell_type": "markdown",
   "metadata": {},
   "source": [
    "These are your tasks for this mini project:\n",
    "\n",
    "1. Collect data from the Franfurt Stock Exchange, for the ticker AFX_X, for the whole year 2017 (keep in mind that the date format is YYYY-MM-DD).\n",
    "2. Convert the returned JSON object into a Python dictionary.\n",
    "3. Calculate what the highest and lowest opening prices were for the stock in this period.\n",
    "4. What was the largest change in any one day (based on High and Low price)?\n",
    "5. What was the largest change between any two days (based on Closing Price)?\n",
    "6. What was the average daily trading volume during this year?\n",
    "7. (Optional) What was the median trading volume during this year. (Note: you may need to implement your own function for calculating the median.)"
   ]
  },
  {
   "cell_type": "code",
   "execution_count": 25,
   "metadata": {},
   "outputs": [
    {
     "name": "stdout",
     "output_type": "stream",
     "text": [
      "The highest opening price is:  122.1  \n",
      "The lowest opening price is:  4.2\n",
      "The largest change in any one day was:14.1\n",
      "The largest change between any two consecutive days:11.2\n",
      "The average daily trading volume during was:  57692.6\n",
      "The median trading volume during was: 41556.0\n"
     ]
    }
   ],
   "source": [
    "#1\n",
    "url= \"https://www.quandl.com/api/v3/datasets/FSE/AFX_X/data.json?+&start_date=2017-01-01&end_date=2017-12-31&\"+API_KEY\n",
    "r_= requests.get(url)\n",
    "r_.status_code\n",
    "#2\n",
    "json_data2017 = r_.json()\n",
    "type(json_data2017)\n",
    "#3\n",
    "open_prices = [col[1] for col in json_data['dataset_data']['data'] if col[1] != None]\n",
    "max_open = max(open_prices)\n",
    "min_open = min(open_prices)\n",
    "print(\"The highest opening price is: \", max_open , \" \\nThe lowest opening price is: \", min_open)\n",
    "#4\n",
    "daily_change = [col[2]-col[3] for col in json_data['dataset_data']['data'] if col[2] != None]\n",
    "largest_change = round(max(daily_change), 2)\n",
    "print('The largest change in any one day was:' + str(largest_change))\n",
    "#5\n",
    "close_prices = [col[4] for col in json_data['dataset_data']['data'] if col[4] != None]\n",
    "change = [x - close_prices[i-1] for i,x in enumerate(close_prices)][1:]\n",
    "pos_change = [abs(num) for num in change]\n",
    "largest_close_change = str(round(max(pos_change), 2))\n",
    "print('The largest change between any two consecutive days:' + str(largest_close_change))\n",
    "#6\n",
    "daily_trading_volume_list = [col[6] for col in json_data['dataset_data']['data'] if col[6] != None]\n",
    "average = round(sum(daily_trading_volume_list) / len(daily_trading_volume_list), 1)\n",
    "print('The average daily trading volume during was: ' , average )\n",
    "#7\n",
    "daily_trading_volume_list = [col[6] for col in json_data['dataset_data']['data'] if col[6] != None]\n",
    "def median(value):\n",
    "    sorted_value = sorted(value)\n",
    "    len_value = len(value)\n",
    "    index = (len_value - 1) // 2\n",
    "    \n",
    "    if (len_value % 2 != 0):\n",
    "        return sorted_value[index]\n",
    "    else:\n",
    "        return (sorted_value[index] + sorted_value[index + 1]) // 2.0\n",
    "median = str(median(daily_trading_volume_list))\n",
    "print('The median trading volume during was: ' + median)\n"
   ]
  },
  {
   "cell_type": "code",
   "execution_count": null,
   "metadata": {},
   "outputs": [],
   "source": []
  }
 ],
 "metadata": {
  "kernelspec": {
   "display_name": "Python 3",
   "language": "python",
   "name": "python3"
  },
  "language_info": {
   "codemirror_mode": {
    "name": "ipython",
    "version": 3
   },
   "file_extension": ".py",
   "mimetype": "text/x-python",
   "name": "python",
   "nbconvert_exporter": "python",
   "pygments_lexer": "ipython3",
   "version": "3.8.5"
  }
 },
 "nbformat": 4,
 "nbformat_minor": 2
}
